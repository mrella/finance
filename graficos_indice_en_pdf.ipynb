{
  "nbformat": 4,
  "nbformat_minor": 0,
  "metadata": {
    "colab": {
      "provenance": [],
      "authorship_tag": "ABX9TyOX18jbc/aVwGT9leitOsKW",
      "include_colab_link": true
    },
    "kernelspec": {
      "name": "python3",
      "display_name": "Python 3"
    },
    "language_info": {
      "name": "python"
    }
  },
  "cells": [
    {
      "cell_type": "markdown",
      "metadata": {
        "id": "view-in-github",
        "colab_type": "text"
      },
      "source": [
        "<a href=\"https://colab.research.google.com/github/mrella/finance/blob/main/graficos_indice_en_pdf.ipynb\" target=\"_parent\"><img src=\"https://colab.research.google.com/assets/colab-badge.svg\" alt=\"Open In Colab\"/></a>"
      ]
    },
    {
      "cell_type": "code",
      "execution_count": 1,
      "metadata": {
        "colab": {
          "base_uri": "https://localhost:8080/"
        },
        "id": "YtWMpXApVTdk",
        "outputId": "8da1df89-c5e3-47f8-af8f-8aed6f98baed"
      },
      "outputs": [
        {
          "output_type": "stream",
          "name": "stdout",
          "text": [
            "Requirement already satisfied: yfinance in /usr/local/lib/python3.11/dist-packages (0.2.63)\n",
            "Requirement already satisfied: matplotlib in /usr/local/lib/python3.11/dist-packages (3.10.0)\n",
            "Collecting fpdf\n",
            "  Downloading fpdf-1.7.2.tar.gz (39 kB)\n",
            "  Preparing metadata (setup.py) ... \u001b[?25l\u001b[?25hdone\n",
            "Requirement already satisfied: pandas>=1.3.0 in /usr/local/lib/python3.11/dist-packages (from yfinance) (2.2.2)\n",
            "Requirement already satisfied: numpy>=1.16.5 in /usr/local/lib/python3.11/dist-packages (from yfinance) (2.0.2)\n",
            "Requirement already satisfied: requests>=2.31 in /usr/local/lib/python3.11/dist-packages (from yfinance) (2.32.3)\n",
            "Requirement already satisfied: multitasking>=0.0.7 in /usr/local/lib/python3.11/dist-packages (from yfinance) (0.0.11)\n",
            "Requirement already satisfied: platformdirs>=2.0.0 in /usr/local/lib/python3.11/dist-packages (from yfinance) (4.3.8)\n",
            "Requirement already satisfied: pytz>=2022.5 in /usr/local/lib/python3.11/dist-packages (from yfinance) (2025.2)\n",
            "Requirement already satisfied: frozendict>=2.3.4 in /usr/local/lib/python3.11/dist-packages (from yfinance) (2.4.6)\n",
            "Requirement already satisfied: peewee>=3.16.2 in /usr/local/lib/python3.11/dist-packages (from yfinance) (3.18.1)\n",
            "Requirement already satisfied: beautifulsoup4>=4.11.1 in /usr/local/lib/python3.11/dist-packages (from yfinance) (4.13.4)\n",
            "Requirement already satisfied: curl_cffi>=0.7 in /usr/local/lib/python3.11/dist-packages (from yfinance) (0.11.3)\n",
            "Requirement already satisfied: protobuf>=3.19.0 in /usr/local/lib/python3.11/dist-packages (from yfinance) (5.29.5)\n",
            "Requirement already satisfied: websockets>=13.0 in /usr/local/lib/python3.11/dist-packages (from yfinance) (15.0.1)\n",
            "Requirement already satisfied: contourpy>=1.0.1 in /usr/local/lib/python3.11/dist-packages (from matplotlib) (1.3.2)\n",
            "Requirement already satisfied: cycler>=0.10 in /usr/local/lib/python3.11/dist-packages (from matplotlib) (0.12.1)\n",
            "Requirement already satisfied: fonttools>=4.22.0 in /usr/local/lib/python3.11/dist-packages (from matplotlib) (4.58.4)\n",
            "Requirement already satisfied: kiwisolver>=1.3.1 in /usr/local/lib/python3.11/dist-packages (from matplotlib) (1.4.8)\n",
            "Requirement already satisfied: packaging>=20.0 in /usr/local/lib/python3.11/dist-packages (from matplotlib) (24.2)\n",
            "Requirement already satisfied: pillow>=8 in /usr/local/lib/python3.11/dist-packages (from matplotlib) (11.2.1)\n",
            "Requirement already satisfied: pyparsing>=2.3.1 in /usr/local/lib/python3.11/dist-packages (from matplotlib) (3.2.3)\n",
            "Requirement already satisfied: python-dateutil>=2.7 in /usr/local/lib/python3.11/dist-packages (from matplotlib) (2.9.0.post0)\n",
            "Requirement already satisfied: soupsieve>1.2 in /usr/local/lib/python3.11/dist-packages (from beautifulsoup4>=4.11.1->yfinance) (2.7)\n",
            "Requirement already satisfied: typing-extensions>=4.0.0 in /usr/local/lib/python3.11/dist-packages (from beautifulsoup4>=4.11.1->yfinance) (4.14.0)\n",
            "Requirement already satisfied: cffi>=1.12.0 in /usr/local/lib/python3.11/dist-packages (from curl_cffi>=0.7->yfinance) (1.17.1)\n",
            "Requirement already satisfied: certifi>=2024.2.2 in /usr/local/lib/python3.11/dist-packages (from curl_cffi>=0.7->yfinance) (2025.6.15)\n",
            "Requirement already satisfied: tzdata>=2022.7 in /usr/local/lib/python3.11/dist-packages (from pandas>=1.3.0->yfinance) (2025.2)\n",
            "Requirement already satisfied: six>=1.5 in /usr/local/lib/python3.11/dist-packages (from python-dateutil>=2.7->matplotlib) (1.17.0)\n",
            "Requirement already satisfied: charset-normalizer<4,>=2 in /usr/local/lib/python3.11/dist-packages (from requests>=2.31->yfinance) (3.4.2)\n",
            "Requirement already satisfied: idna<4,>=2.5 in /usr/local/lib/python3.11/dist-packages (from requests>=2.31->yfinance) (3.10)\n",
            "Requirement already satisfied: urllib3<3,>=1.21.1 in /usr/local/lib/python3.11/dist-packages (from requests>=2.31->yfinance) (2.4.0)\n",
            "Requirement already satisfied: pycparser in /usr/local/lib/python3.11/dist-packages (from cffi>=1.12.0->curl_cffi>=0.7->yfinance) (2.22)\n",
            "Building wheels for collected packages: fpdf\n",
            "  Building wheel for fpdf (setup.py) ... \u001b[?25l\u001b[?25hdone\n",
            "  Created wheel for fpdf: filename=fpdf-1.7.2-py2.py3-none-any.whl size=40704 sha256=60cf68894b850a4876f1a5032e36d5ca539a131209d001e21348734d5b70dfa5\n",
            "  Stored in directory: /root/.cache/pip/wheels/65/4f/66/bbda9866da446a72e206d6484cd97381cbc7859a7068541c36\n",
            "Successfully built fpdf\n",
            "Installing collected packages: fpdf\n",
            "Successfully installed fpdf-1.7.2\n",
            "Collecting mplfinance\n",
            "  Downloading mplfinance-0.12.10b0-py3-none-any.whl.metadata (19 kB)\n",
            "Collecting ta\n",
            "  Downloading ta-0.11.0.tar.gz (25 kB)\n",
            "  Preparing metadata (setup.py) ... \u001b[?25l\u001b[?25hdone\n",
            "Requirement already satisfied: matplotlib in /usr/local/lib/python3.11/dist-packages (from mplfinance) (3.10.0)\n",
            "Requirement already satisfied: pandas in /usr/local/lib/python3.11/dist-packages (from mplfinance) (2.2.2)\n",
            "Requirement already satisfied: numpy in /usr/local/lib/python3.11/dist-packages (from ta) (2.0.2)\n",
            "Requirement already satisfied: contourpy>=1.0.1 in /usr/local/lib/python3.11/dist-packages (from matplotlib->mplfinance) (1.3.2)\n",
            "Requirement already satisfied: cycler>=0.10 in /usr/local/lib/python3.11/dist-packages (from matplotlib->mplfinance) (0.12.1)\n",
            "Requirement already satisfied: fonttools>=4.22.0 in /usr/local/lib/python3.11/dist-packages (from matplotlib->mplfinance) (4.58.4)\n",
            "Requirement already satisfied: kiwisolver>=1.3.1 in /usr/local/lib/python3.11/dist-packages (from matplotlib->mplfinance) (1.4.8)\n",
            "Requirement already satisfied: packaging>=20.0 in /usr/local/lib/python3.11/dist-packages (from matplotlib->mplfinance) (24.2)\n",
            "Requirement already satisfied: pillow>=8 in /usr/local/lib/python3.11/dist-packages (from matplotlib->mplfinance) (11.2.1)\n",
            "Requirement already satisfied: pyparsing>=2.3.1 in /usr/local/lib/python3.11/dist-packages (from matplotlib->mplfinance) (3.2.3)\n",
            "Requirement already satisfied: python-dateutil>=2.7 in /usr/local/lib/python3.11/dist-packages (from matplotlib->mplfinance) (2.9.0.post0)\n",
            "Requirement already satisfied: pytz>=2020.1 in /usr/local/lib/python3.11/dist-packages (from pandas->mplfinance) (2025.2)\n",
            "Requirement already satisfied: tzdata>=2022.7 in /usr/local/lib/python3.11/dist-packages (from pandas->mplfinance) (2025.2)\n",
            "Requirement already satisfied: six>=1.5 in /usr/local/lib/python3.11/dist-packages (from python-dateutil>=2.7->matplotlib->mplfinance) (1.17.0)\n",
            "Downloading mplfinance-0.12.10b0-py3-none-any.whl (75 kB)\n",
            "\u001b[2K   \u001b[90m━━━━━━━━━━━━━━━━━━━━━━━━━━━━━━━━━━━━━━━━\u001b[0m \u001b[32m75.0/75.0 kB\u001b[0m \u001b[31m4.0 MB/s\u001b[0m eta \u001b[36m0:00:00\u001b[0m\n",
            "\u001b[?25hBuilding wheels for collected packages: ta\n",
            "  Building wheel for ta (setup.py) ... \u001b[?25l\u001b[?25hdone\n",
            "  Created wheel for ta: filename=ta-0.11.0-py3-none-any.whl size=29412 sha256=3e2f0cbdffa71b4205de3e1b2d8a9024b001768712ff35b5c1bccb88b919d0cf\n",
            "  Stored in directory: /root/.cache/pip/wheels/a1/d7/29/7781cc5eb9a3659d032d7d15bdd0f49d07d2b24fec29f44bc4\n",
            "Successfully built ta\n",
            "Installing collected packages: ta, mplfinance\n",
            "Successfully installed mplfinance-0.12.10b0 ta-0.11.0\n"
          ]
        }
      ],
      "source": [
        "!pip install yfinance matplotlib fpdf\n",
        "!pip install mplfinance ta"
      ]
    },
    {
      "cell_type": "code",
      "source": [],
      "metadata": {
        "id": "Qx5mqnrdW6w7"
      },
      "execution_count": null,
      "outputs": []
    },
    {
      "cell_type": "code",
      "source": [
        "import yfinance as yf\n",
        "import mplfinance as mpf\n",
        "import pandas as pd\n",
        "from fpdf import FPDF\n",
        "from datetime import datetime, timedelta\n",
        "import ta\n",
        "import os\n",
        "import warnings\n",
        "warnings.filterwarnings('ignore')\n",
        "import seaborn as sns\n",
        "sns.set_theme(style=\"darkgrid\", palette=\"muted\", font_scale=1.1)\n",
        "\n",
        "# Lista de símbolos del NASDAQ-100 (puedes obtenerla dinámicamente si lo deseas)\n",
        "nasdaq_100 = [\n",
        "    \"AAPL\", \"MSFT\", \"AMZN\", \"NVDA\", \"GOOGL\", \"GOOG\", \"META\", \"TSLA\", \"AVGO\", \"PEP\",\n",
        "    \"COST\", \"ADBE\", \"CSCO\", \"NFLX\", \"AMD\", \"INTC\", \"QCOM\", \"TXN\", \"AMAT\", \"INTU\",\n",
        "    \"ISRG\", \"BKNG\", \"REGN\", \"ADI\", \"LRCX\", \"VRTX\", \"GILD\", \"MU\", \"MDLZ\", \"PANW\",\n",
        "    \"ADP\", \"PDD\", \"CSGP\", \"KLAC\", \"CDNS\", \"MAR\", \"MELI\", \"ASML\", \"SNPS\", \"IDXX\",\n",
        "    \"CTSH\", \"CRWD\", \"MRNA\", \"ROST\", \"MNST\", \"ORLY\", \"WBD\", \"TEAM\", \"NXPI\", \"FTNT\",\n",
        "    \"CTAS\", \"KDP\", \"AZN\", \"BIIB\", \"EXC\", \"CHTR\", \"XEL\", \"PCAR\", \"PAYX\", \"SIRI\",\n",
        "    \"CEG\", \"FAST\", \"VRSK\", \"SGEN\", \"TTD\", \"ANSS\", \"ODFL\", \"VRSN\", \"DLTR\", \"ZS\",\n",
        "    \"ALGN\", \"EBAY\", \"CDW\", \"WBA\", \"INCY\", \"VERI\"\n",
        "]\n",
        "\n",
        "nasdaq_100 = [\n",
        "    \"AAPL\", \"MSFT\", \"NVDA\", \"AMZN\", \"GOOGL\", \"META\", \"TSLA\", \"AMD\"\n",
        "]\n",
        "\n",
        "# Fechas\n",
        "end_date = datetime.today()\n",
        "start_date = end_date - timedelta(days=180)  # últimos 6 meses\n",
        "\n",
        "def plot_chart(tickers, start_date, end_date):\n",
        "\n",
        "  # Crear carpeta temporal para guardar los gráficos\n",
        "  if not os.path.exists(\"charts\"):\n",
        "      os.makedirs(\"charts\")\n",
        "\n",
        "  # PDF\n",
        "  pdf = FPDF()\n",
        "  pdf.set_auto_page_break(auto=True, margin=15)\n",
        "\n",
        "  for symbol in tickers:\n",
        "      try:\n",
        "          print(f\"Descargando datos de {symbol}...\")\n",
        "          data = yf.download(symbol, start=start_date, end=end_date, interval=\"1d\")\n",
        "\n",
        "          if data.empty:\n",
        "              print(f\"Sin datos para {symbol}, se omite.\")\n",
        "              continue\n",
        "\n",
        "          # Crear gráfico\n",
        "          plt.figure(figsize=(10, 4))\n",
        "          plt.plot(data[\"Close\"], label=\"Cierre\")\n",
        "          plt.title(f\"{symbol} - Últimos 6 meses\")\n",
        "          plt.xlabel(\"Fecha\")\n",
        "          plt.ylabel(\"Precio de Cierre\")\n",
        "          plt.grid(True)\n",
        "          plt.tight_layout()\n",
        "          chart_path = f\"charts/{symbol}.png\"\n",
        "          plt.savefig(chart_path)\n",
        "          plt.close()\n",
        "\n",
        "          # Agregar gráfico al PDF\n",
        "          pdf.add_page()\n",
        "          pdf.set_font(\"Arial\", \"B\", 16)\n",
        "          pdf.cell(0, 10, f\"{symbol} - Gráfico Diario (6 meses)\", ln=True, align=\"C\")\n",
        "          pdf.image(chart_path, x=10, y=30, w=190)\n",
        "\n",
        "      except Exception as e:\n",
        "          print(f\"Error procesando {symbol}: {e}\")\n",
        "\n",
        "  # Guardar el PDF\n",
        "  output_file = \"charts.pdf\"\n",
        "  pdf.output(output_file)\n",
        "  print(f\"PDF generado exitosamente: {output_file}\")\n",
        "\n",
        "\n",
        "plot_chart(nasdaq_100, start_date, end_date)\n"
      ],
      "metadata": {
        "colab": {
          "base_uri": "https://localhost:8080/"
        },
        "id": "_N67bW-gVZU3",
        "outputId": "8f72e542-4a5f-4646-8e0e-1d02dfcadb72"
      },
      "execution_count": 8,
      "outputs": [
        {
          "output_type": "stream",
          "name": "stderr",
          "text": [
            "\r[*********************100%***********************]  1 of 1 completed"
          ]
        },
        {
          "output_type": "stream",
          "name": "stdout",
          "text": [
            "Descargando datos de AAPL...\n"
          ]
        },
        {
          "output_type": "stream",
          "name": "stderr",
          "text": [
            "\n",
            "[*********************100%***********************]  1 of 1 completed"
          ]
        },
        {
          "output_type": "stream",
          "name": "stdout",
          "text": [
            "Descargando datos de MSFT...\n"
          ]
        },
        {
          "output_type": "stream",
          "name": "stderr",
          "text": [
            "\n",
            "[*********************100%***********************]  1 of 1 completed"
          ]
        },
        {
          "output_type": "stream",
          "name": "stdout",
          "text": [
            "Descargando datos de NVDA...\n"
          ]
        },
        {
          "output_type": "stream",
          "name": "stderr",
          "text": [
            "\n",
            "[*********************100%***********************]  1 of 1 completed"
          ]
        },
        {
          "output_type": "stream",
          "name": "stdout",
          "text": [
            "Descargando datos de AMZN...\n"
          ]
        },
        {
          "output_type": "stream",
          "name": "stderr",
          "text": [
            "\n",
            "[*********************100%***********************]  1 of 1 completed"
          ]
        },
        {
          "output_type": "stream",
          "name": "stdout",
          "text": [
            "Descargando datos de GOOGL...\n"
          ]
        },
        {
          "output_type": "stream",
          "name": "stderr",
          "text": [
            "\n",
            "[*********************100%***********************]  1 of 1 completed"
          ]
        },
        {
          "output_type": "stream",
          "name": "stdout",
          "text": [
            "Descargando datos de META...\n"
          ]
        },
        {
          "output_type": "stream",
          "name": "stderr",
          "text": [
            "\n",
            "[*********************100%***********************]  1 of 1 completed"
          ]
        },
        {
          "output_type": "stream",
          "name": "stdout",
          "text": [
            "Descargando datos de TSLA...\n"
          ]
        },
        {
          "output_type": "stream",
          "name": "stderr",
          "text": [
            "\n",
            "[*********************100%***********************]  1 of 1 completed"
          ]
        },
        {
          "output_type": "stream",
          "name": "stdout",
          "text": [
            "Descargando datos de AMD...\n"
          ]
        },
        {
          "output_type": "stream",
          "name": "stderr",
          "text": [
            "\n"
          ]
        },
        {
          "output_type": "stream",
          "name": "stdout",
          "text": [
            "PDF generado exitosamente: charts.pdf\n"
          ]
        }
      ]
    },
    {
      "cell_type": "code",
      "source": [
        "import yfinance as yf\n",
        "import mplfinance as mpf\n",
        "import pandas as pd\n",
        "from fpdf import FPDF\n",
        "from datetime import datetime, timedelta\n",
        "import ta\n",
        "import os\n",
        "import warnings\n",
        "warnings.filterwarnings('ignore')\n",
        "import seaborn as sns\n",
        "sns.set_theme(style=\"darkgrid\", palette=\"muted\", font_scale=1.1)\n",
        "\n",
        "# Lista del NASDAQ 100 (resumida para ejemplo rápido, puedes ampliar)\n",
        "nasdaq_100 = [\n",
        "    \"AAPL\", \"MSFT\", \"NVDA\", \"AMZN\", \"GOOGL\", \"META\", \"TSLA\", \"AMD\"\n",
        "]\n",
        "\n",
        "# Fechas\n",
        "end_date = datetime.today()\n",
        "start_date = end_date - timedelta(days=180)\n",
        "\n",
        "# Carpeta para gráficos\n",
        "if not os.path.exists(\"charts\"):\n",
        "    os.makedirs(\"charts\")\n",
        "\n",
        "# PDF\n",
        "pdf = FPDF()\n",
        "pdf.set_auto_page_break(auto=True, margin=15)\n",
        "\n",
        "for symbol in nasdaq_100:\n",
        "    try:\n",
        "        print(f\"Procesando {symbol}...\")\n",
        "        df = yf.download(symbol, start=start_date, end=end_date, interval=\"1d\")\n",
        "        if df.empty:\n",
        "            continue\n",
        "\n",
        "        df.dropna(inplace=True)\n",
        "\n",
        "        # Preparar datos\n",
        "        df[\"EMA20\"] = ta.trend.ema_indicator(df[\"Close\"], window=20)\n",
        "        df[\"EMA20_std\"] = df[\"Close\"].rolling(window=20).std()\n",
        "        df[\"Upper_KC\"] = df[\"EMA20\"] + 2 * df[\"EMA20_std\"]\n",
        "        df[\"Lower_KC\"] = df[\"EMA20\"] - 2 * df[\"EMA20_std\"]\n",
        "\n",
        "        # MACD\n",
        "        macd = ta.trend.macd(df[\"Close\"])\n",
        "        df[\"MACD\"] = macd.macd()\n",
        "        df[\"MACD_signal\"] = macd.macd_signal()\n",
        "\n",
        "        # Crear subplots\n",
        "        apds = [\n",
        "            mpf.make_addplot(df[\"Upper_KC\"], color='orange'),\n",
        "            mpf.make_addplot(df[\"Lower_KC\"], color='orange'),\n",
        "            mpf.make_addplot(df[\"MACD\"], panel=2, color='blue', ylabel='MACD'),\n",
        "            mpf.make_addplot(df[\"MACD_signal\"], panel=2, color='red'),\n",
        "        ]\n",
        "\n",
        "        # Guardar gráfico\n",
        "        chart_path = f\"charts/{symbol}.png\"\n",
        "        mpf.plot(df, type='candle', style='yahoo', volume=True,\n",
        "                 addplot=apds, title=f\"{symbol} - 6 Meses\",\n",
        "                 savefig=dict(fname=chart_path, dpi=150, bbox_inches='tight'))\n",
        "\n",
        "        # Añadir al PDF\n",
        "        pdf.add_page()\n",
        "        pdf.set_font(\"Arial\", \"B\", 14)\n",
        "        pdf.cell(0, 10, f\"{symbol} - Gráfico de Velas, Volumen, MACD, Keltner\", ln=True, align=\"C\")\n",
        "        pdf.image(chart_path, x=10, y=30, w=190)\n",
        "\n",
        "    except Exception as e:\n",
        "        print(f\"Error con {symbol}: {e}\")\n",
        "\n",
        "# Guardar PDF\n",
        "pdf.output(\"nasdaq100_analisis_tecnico.pdf\")\n",
        "print(\"✅ PDF generado: nasdaq100_analisis_tecnico.pdf\")\n"
      ],
      "metadata": {
        "colab": {
          "base_uri": "https://localhost:8080/"
        },
        "id": "zoymb2DDW5dw",
        "outputId": "5a3e9e3b-bccf-4044-f520-76b97c2d0c23"
      },
      "execution_count": 7,
      "outputs": [
        {
          "output_type": "stream",
          "name": "stdout",
          "text": [
            "Procesando AAPL...\n"
          ]
        },
        {
          "output_type": "stream",
          "name": "stderr",
          "text": [
            "[*********************100%***********************]  1 of 1 completed\n",
            "[*********************100%***********************]  1 of 1 completed\n"
          ]
        },
        {
          "output_type": "stream",
          "name": "stdout",
          "text": [
            "Error con AAPL: Data must be 1-dimensional, got ndarray of shape (122, 1) instead\n",
            "Procesando MSFT...\n",
            "Error con MSFT: Data must be 1-dimensional, got ndarray of shape (122, 1) instead\n",
            "Procesando NVDA...\n"
          ]
        },
        {
          "output_type": "stream",
          "name": "stderr",
          "text": [
            "[*********************100%***********************]  1 of 1 completed\n",
            "[*********************100%***********************]  1 of 1 completed\n",
            "[*********************100%***********************]  1 of 1 completed\n"
          ]
        },
        {
          "output_type": "stream",
          "name": "stdout",
          "text": [
            "Error con NVDA: Data must be 1-dimensional, got ndarray of shape (122, 1) instead\n",
            "Procesando AMZN...\n",
            "Error con AMZN: Data must be 1-dimensional, got ndarray of shape (122, 1) instead\n",
            "Procesando GOOGL...\n",
            "Error con GOOGL: Data must be 1-dimensional, got ndarray of shape (122, 1) instead\n",
            "Procesando META...\n"
          ]
        },
        {
          "output_type": "stream",
          "name": "stderr",
          "text": [
            "[*********************100%***********************]  1 of 1 completed\n",
            "[*********************100%***********************]  1 of 1 completed\n",
            "[*********************100%***********************]  1 of 1 completed"
          ]
        },
        {
          "output_type": "stream",
          "name": "stdout",
          "text": [
            "Error con META: Data must be 1-dimensional, got ndarray of shape (122, 1) instead\n",
            "Procesando TSLA...\n",
            "Error con TSLA: Data must be 1-dimensional, got ndarray of shape (122, 1) instead\n",
            "Procesando AMD...\n",
            "Error con AMD: Data must be 1-dimensional, got ndarray of shape (122, 1) instead\n",
            "✅ PDF generado: nasdaq100_analisis_tecnico.pdf\n"
          ]
        },
        {
          "output_type": "stream",
          "name": "stderr",
          "text": [
            "\n"
          ]
        }
      ]
    }
  ]
}